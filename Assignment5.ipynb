{
 "cells": [
  {
   "cell_type": "markdown",
   "id": "fe9ada0e-f368-48b9-9e49-56606092cb51",
   "metadata": {},
   "source": [
    " ## Assignment 5"
   ]
  },
  {
   "cell_type": "markdown",
   "id": "30237bc2-0109-4acc-91d3-e05bc8c5e751",
   "metadata": {},
   "source": [
    " This Assignment I divided into following three parts:\n",
    "<ul>\n",
    "<li>Object-oriented code in python</li>\n",
    "<li>Connecting with Mongo DB</li>\n",
    "<li>Creating chart using Matplotlib</li>\n",
    "</ul>"
   ]
  },
  {
   "cell_type": "markdown",
   "id": "105b19c4-a0b6-44b4-a369-b7f3c5258c9f",
   "metadata": {},
   "source": [
    " ## 1. Object-oriented code in python"
   ]
  },
  {
   "cell_type": "markdown",
   "id": "15c34982-c673-4838-8b8a-1d712f3ee8eb",
   "metadata": {},
   "source": [
    "In this Object-oriented code we will make a system for user to buy Juice beverage, with multiple functinality like checking the valid amount and giving the remaing changes from actual amount."
   ]
  },
  {
   "cell_type": "markdown",
   "id": "f3a216db-0744-487e-82c7-f1fba223621b",
   "metadata": {},
   "source": [
    "Juice Class"
   ]
  },
  {
   "cell_type": "code",
   "execution_count": 15,
   "id": "7bdada5d-c98d-4682-8ba7-5ede8453fdeb",
   "metadata": {},
   "outputs": [],
   "source": [
    "class Juice:\n",
    "        \n",
    "        def __init__(self, name, price):\n",
    "                self.name = name\n",
    "                self.price = float(price)\n",
    "        def check_remainingamount(self, budget):\n",
    "                if not isinstance(budget, (int, float)):\n",
    "                        print('Enter valid number')\n",
    "                        exit()\n",
    "                if budget < 0: \n",
    "                    print('Sorry you need more money') \n",
    "                    exit() \n",
    "        def get_change(self, budget):\n",
    "                return budget - self.price\n",
    "        \n",
    "        def sell(self, budget):\n",
    "                self.check_remainingamount(budget)\n",
    "                if budget >= self.price:\n",
    "                        print(f'You can buy the {self.name} Juice')\n",
    "                        if budget == self.price:\n",
    "                                print('It successfully purchased')\n",
    "                        else:\n",
    "                                print(f'Here is your change {self.get_change(budget)}$')\n",
    "\n",
    "                        exit('Thank you')"
   ]
  },
  {
   "cell_type": "markdown",
   "id": "cc07351f-d9ad-4d1e-a94b-a3ad47637490",
   "metadata": {},
   "source": [
    "Main function"
   ]
  },
  {
   "cell_type": "code",
   "execution_count": 17,
   "id": "891e71df-6a1d-4000-a966-2ab2f169433f",
   "metadata": {},
   "outputs": [
    {
     "name": "stdin",
     "output_type": "stream",
     "text": [
      "What is your budget?  32\n"
     ]
    },
    {
     "name": "stdout",
     "output_type": "stream",
     "text": [
      "You can buy the orange Juice\n",
      "Here is your change 28.0$\n",
      "You can buy the mango Juice\n",
      "Here is your change 28.0$\n",
      "You can buy the lemon Juice\n",
      "Here is your change 30.0$\n"
     ]
    }
   ],
   "source": [
    "def main():\n",
    "    \n",
    "    orange = Juice('orange', 4)\n",
    "    mango = Juice('mango', 4)\n",
    "    lemon = Juice('lemon', 2)\n",
    "\n",
    "    try:\n",
    "      user_budget = float(input('What is your budget? '))\n",
    "    except ValueError:\n",
    "      exit('Please enter a number')\n",
    " \n",
    "    for juice in [orange, mango, lemon]:\n",
    "      juice.sell(user_budget)\n",
    "    \n",
    "main()"
   ]
  },
  {
   "cell_type": "markdown",
   "id": "f6836907-c2f3-4adc-a2ff-1376d02834dd",
   "metadata": {},
   "source": [
    "## 2. Connecting with MongoDB"
   ]
  },
  {
   "cell_type": "code",
   "execution_count": 18,
   "id": "1aad96c0-6fe8-414a-866c-32d0f0fb0e0c",
   "metadata": {},
   "outputs": [
    {
     "name": "stdout",
     "output_type": "stream",
     "text": [
      "Requirement already satisfied: pymongo in c:\\users\\harman\\appdata\\local\\programs\\python\\python39\\lib\\site-packages (3.12.1)\n",
      "Note: you may need to restart the kernel to use updated packages.\n"
     ]
    },
    {
     "name": "stderr",
     "output_type": "stream",
     "text": [
      "WARNING: You are using pip version 21.2.4; however, version 21.3.1 is available.\n",
      "You should consider upgrading via the 'C:\\Users\\harman\\AppData\\Local\\Programs\\Python\\Python39\\python.exe -m pip install --upgrade pip' command.\n"
     ]
    }
   ],
   "source": [
    "pip install pymongo\n"
   ]
  },
  {
   "cell_type": "code",
   "execution_count": 19,
   "id": "c395665e-e737-4b7f-af14-399bee8e60d0",
   "metadata": {},
   "outputs": [],
   "source": [
    "import os # to create an interface with our operating system\n",
    "import sys # information on how our code is interacting with the host system\n",
    "import pymongo # for working with the MongoDB API"
   ]
  },
  {
   "cell_type": "code",
   "execution_count": 20,
   "id": "03e6c998-b7b9-4d3a-8c78-fb00d2bd47c3",
   "metadata": {},
   "outputs": [],
   "source": [
    "client = pymongo.MongoClient('mongodb://localhost:27017')\n",
    "db = client.Music5\n",
    "collection = db.Music_song\n",
    "test = collection.find_one()"
   ]
  },
  {
   "cell_type": "code",
   "execution_count": 21,
   "id": "24050d69-1cd7-4296-b71b-f21979d9120e",
   "metadata": {},
   "outputs": [
    {
     "data": {
      "text/plain": [
       "[{'_id': ObjectId('61aff007b9026a519d9cbcfa'),\n",
       "  'id': 7,\n",
       "  'Audio': 'In Da Club',\n",
       "  'Artist': '50 Cent',\n",
       "  'Audiofile': '50_Cent_-__In_Da_Club.mp3',\n",
       "  'Imageurl': 'indaclub.jpg',\n",
       "  'Genre': 'HipHop',\n",
       "  'Time': '4.00',\n",
       "  'color': 'blue'},\n",
       " {'_id': ObjectId('61aff0b7b9026a519d9cbd00'),\n",
       "  'id': 10,\n",
       "  'Audio': 'Every chance I Get',\n",
       "  'Artist': 'Dj Khaled',\n",
       "  'Audiofile': 'everychanceiget.mp3',\n",
       "  'Imageurl': 'oneverything.jpg',\n",
       "  'Genre': 'HipHop',\n",
       "  'Time': '4.00',\n",
       "  'color': 'yellow'},\n",
       " {'_id': ObjectId('61aff0f7b9026a519d9cbd02'),\n",
       "  'id': 11,\n",
       "  'Audio': 'Ridin',\n",
       "  'Artist': 'Chamillionaire',\n",
       "  'Audiofile': 'Chamillionaire_-_Ridin_ft._Krayzie_Bone.mp3',\n",
       "  'Imageurl': 'ridin.jpg',\n",
       "  'Genre': 'HipHop',\n",
       "  'Time': '4.00',\n",
       "  'color': 'grey'},\n",
       " {'_id': ObjectId('61aff132b9026a519d9cbd04'),\n",
       "  'id': 12,\n",
       "  'Audio': 'Rapstar',\n",
       "  'Artist': 'Polo G',\n",
       "  'Audiofile': 'Polo-G-RAPSTAR-Official-Video.mp3',\n",
       "  'Imageurl': 'rapstar.jpg',\n",
       "  'Genre': 'HipHop',\n",
       "  'Time': '4.00',\n",
       "  'color': 'bisque'},\n",
       " {'_id': ObjectId('61b12c986753e8dc3fae06b1'),\n",
       "  'id': 13,\n",
       "  'Audio': 'Better Together',\n",
       "  'Artist': 'Luke Combs',\n",
       "  'Audiofile': 'Luke_Combs_-_Better_Together.mp3',\n",
       "  'Imageurl': 'bettertogether.jpg',\n",
       "  'Genre': 'Acoustic',\n",
       "  'Time': '4.00',\n",
       "  'color': 'green'},\n",
       " {'_id': ObjectId('61b12ccc6753e8dc3fae06b3'),\n",
       "  'id': 14,\n",
       "  'Audio': 'Bon Jovi',\n",
       "  'Artist': 'Wanted dead or alive',\n",
       "  'Audiofile': 'Bon_Jovi_-_Wanted_Dead_Or_Alive_Qoret.com.mp3',\n",
       "  'Imageurl': 'wanteddeadoralive.jpg',\n",
       "  'Genre': 'Acoustic',\n",
       "  'Time': '4.00',\n",
       "  'color': 'blue'},\n",
       " {'_id': ObjectId('61b12d2c6753e8dc3fae06b5'),\n",
       "  'id': 15,\n",
       "  'Audio': 'Foo Fighters',\n",
       "  'Artist': 'Everlong',\n",
       "  'Audiofile': 'everlong.mp3',\n",
       "  'Imageurl': 'everlong.jpg',\n",
       "  'Genre': 'Acoustic',\n",
       "  'Time': '4.00',\n",
       "  'color': 'red'},\n",
       " {'_id': ObjectId('61b12d686753e8dc3fae06b7'),\n",
       "  'id': 16,\n",
       "  'Audio': 'She will be loved',\n",
       "  'Artist': 'Maroon 5',\n",
       "  'Audiofile': 'She_Will_Be_Loved.mp3',\n",
       "  'Imageurl': 'shewillbeloved.jpg',\n",
       "  'Genre': 'Acoustic',\n",
       "  'Time': '4.00',\n",
       "  'color': 'grey'},\n",
       " {'_id': ObjectId('61b12db26753e8dc3fae06b9'),\n",
       "  'id': 17,\n",
       "  'Audio': 'She talk to angels',\n",
       "  'Artist': 'The Black Crowes',\n",
       "  'Audiofile': 'SheTalksToAngels.mp3',\n",
       "  'Imageurl': 'She_Talks_to_Angels.jpg',\n",
       "  'Genre': 'Acoustic',\n",
       "  'Time': '4.00',\n",
       "  'color': 'yellow'},\n",
       " {'_id': ObjectId('61b205b2a08d7c4231481ddf'),\n",
       "  'id': 18,\n",
       "  'Audio': 'Galway Girl',\n",
       "  'Artist': 'Ed Sheeran',\n",
       "  'Audiofile': 'galwaygirl.jpg',\n",
       "  'Imageurl': 'galwaygirl_9aN1gsH.jpg',\n",
       "  'Genre': 'Dance',\n",
       "  'Time': '4.00',\n",
       "  'color': 'bisque'},\n",
       " {'_id': ObjectId('61b205f6a08d7c4231481de1'),\n",
       "  'id': 19,\n",
       "  'Audio': 'Perfect',\n",
       "  'Artist': 'Ed Sheeren',\n",
       "  'Audiofile': 'Ed_Sheeran_-_Perfect_thinknews.com.ng.mp3',\n",
       "  'Imageurl': 'perfect.jpg',\n",
       "  'Genre': 'Dance',\n",
       "  'Time': '4.00',\n",
       "  'color': 'white'},\n",
       " {'_id': ObjectId('61b20626a08d7c4231481de3'),\n",
       "  'id': 20,\n",
       "  'Audio': 'Happy',\n",
       "  'Artist': 'Pharrel Williams',\n",
       "  'Audiofile': 'Pharrell-Williams-Happy-Mybestfeelings.com_.mp3',\n",
       "  'Imageurl': 'happy.jpeg',\n",
       "  'Genre': 'Dance',\n",
       "  'Time': '4.00',\n",
       "  'color': 'blue'},\n",
       " {'_id': ObjectId('61b20671a08d7c4231481de5'),\n",
       "  'id': 21,\n",
       "  'Audio': 'Party Rock Anthem',\n",
       "  'Artist': 'LMFAO',\n",
       "  'Audiofile': 'LMFAO_ft_Lauren_Bennett_GoonRock_-_Party_Rock_Anthem_NaijaGreen.Com_.mp3',\n",
       "  'Imageurl': 'LMFAO-ft.-Lauren-Bennett-GoonRock-Party-Rock-Anthem.jpg',\n",
       "  'Genre': 'Dance',\n",
       "  'Time': '4.00',\n",
       "  'color': 'green'},\n",
       " {'_id': ObjectId('61b20698a08d7c4231481de7'),\n",
       "  'id': 22,\n",
       "  'Audio': 'Yeah',\n",
       "  'Artist': 'Usher',\n",
       "  'Audiofile': 'Usher_-_Yeah_ft._Ludacris__Lil_Jon.mp3',\n",
       "  'Imageurl': 'yeah.jpg',\n",
       "  'Genre': 'Dance',\n",
       "  'Time': '4.00',\n",
       "  'color': 'grey'},\n",
       " {'_id': ObjectId('61b2070ca08d7c4231481de9'),\n",
       "  'id': 23,\n",
       "  'Audio': 'Thinking Out Loud',\n",
       "  'Artist': 'Ed Sheeren',\n",
       "  'Audiofile': 'Ed_Sheeran_-_Thinking_Out_Loud-AFROBEAT.co.za.mp3',\n",
       "  'Imageurl': 'thinkingoutloud.jpg',\n",
       "  'Genre': 'Dance',\n",
       "  'Time': '4.00',\n",
       "  'color': 'orange'},\n",
       " {'_id': ObjectId('61b2074ba08d7c4231481deb'),\n",
       "  'id': 24,\n",
       "  'Audio': 'We Found Love',\n",
       "  'Artist': 'Rihanna',\n",
       "  'Audiofile': 'Rihanna_-_We_Found_Love_ft._Calvin_Harris.mp3',\n",
       "  'Imageurl': 'wefoundlove.jpg',\n",
       "  'Genre': 'Dance',\n",
       "  'Time': '4.00',\n",
       "  'color': 'beige'},\n",
       " {'_id': ObjectId('61b2a01f3a48ab500d5c22d1'),\n",
       "  'id': 25,\n",
       "  'Audio': 'Phone Dies',\n",
       "  'Artist': 'Andra Day',\n",
       "  'Audiofile': 'Andra_Day_-_Phone_Dies_prod._Anderson_.Paak_320_kbps.mp3',\n",
       "  'Imageurl': 'phonedies.jpg',\n",
       "  'Genre': 'Jazz',\n",
       "  'Time': '4.00',\n",
       "  'color': 'grey'},\n",
       " {'_id': ObjectId('61b2a06f3a48ab500d5c22d3'),\n",
       "  'id': 26,\n",
       "  'Audio': 'Old Brazil',\n",
       "  'Artist': 'Beverley Beirne',\n",
       "  'Audiofile': 'To_Brazil_320_Kbps.mp3',\n",
       "  'Imageurl': 'oldbrazil.jpg',\n",
       "  'Genre': 'Jazz',\n",
       "  'Time': '4.00',\n",
       "  'color': 'red'},\n",
       " {'_id': ObjectId('61b2a1d43a48ab500d5c22d5'),\n",
       "  'id': 27,\n",
       "  'Audio': 'Look of love',\n",
       "  'Artist': 'Dianna Krall',\n",
       "  'Audiofile': 'diana-krall-the-look-of-love.mp3',\n",
       "  'Imageurl': 'lookoflove.jpg',\n",
       "  'Genre': 'Jazz',\n",
       "  'Time': '4.00',\n",
       "  'color': 'green'},\n",
       " {'_id': ObjectId('61b2a20d3a48ab500d5c22d7'),\n",
       "  'id': 28,\n",
       "  'Audio': 'Blue in green',\n",
       "  'Artist': 'Miles Davis',\n",
       "  'Audiofile': 'BlueInGreen.mp3',\n",
       "  'Imageurl': 'blueingreen.jpg',\n",
       "  'Genre': 'Jazz',\n",
       "  'Time': '4.00',\n",
       "  'color': 'orange'},\n",
       " {'_id': ObjectId('61b4b43e52fcadb91c5a27b6'),\n",
       "  'id': 29,\n",
       "  'Audio': 'Grave',\n",
       "  'Artist': 'Dee Yan-Key',\n",
       "  'Audiofile': 'Dee_Yan-Key_-_Grave.mp3',\n",
       "  'Imageurl': 'guitar-siren-nikki-smith.jpg',\n",
       "  'Genre': 'Classical',\n",
       "  'Time': '4.00',\n",
       "  'color': 'green'},\n",
       " {'_id': ObjectId('61b4b48552fcadb91c5a27b8'),\n",
       "  'id': 30,\n",
       "  'Audio': 'Non troppo sostenuto',\n",
       "  'Artist': 'Dee Yan-Key',\n",
       "  'Audiofile': 'Dee_Yan-Key_-_Non_troppo_sostenuto.mp3',\n",
       "  'Imageurl': 'pngtree-simple-classical-chinese-style-wind-and-long-song-tv-drama-poster-png-image_4324947.jpg',\n",
       "  'Genre': 'Classical',\n",
       "  'Time': '4.00',\n",
       "  'color': 'red'},\n",
       " {'_id': ObjectId('61b4b4ab52fcadb91c5a27ba'),\n",
       "  'id': 31,\n",
       "  'Audio': 'World of Snow',\n",
       "  'Artist': 'Dee Yan-Key',\n",
       "  'Audiofile': 'Dee_Yan-Key_-_World_of_Snow.mp3',\n",
       "  'Imageurl': 'pngtree-simple-classical-chinese-style-wind-and-long-song-tv-drama-poster-png-image_4324_MDTrw3x.jpg',\n",
       "  'Genre': 'Classical',\n",
       "  'Time': '4.00',\n",
       "  'color': 'orange'},\n",
       " {'_id': ObjectId('61b4b4e452fcadb91c5a27bc'),\n",
       "  'id': 32,\n",
       "  'Audio': 'Farewell',\n",
       "  'Artist': 'Maarten Schellekens',\n",
       "  'Audiofile': 'Maarten_Schellekens_-_Farewell_Remix.mp3',\n",
       "  'Imageurl': 'pngtree-simple-classical-chinese-style-wind-and-long-song-tv-drama-poster-png-image_4324_Qtz1Do2.jpg',\n",
       "  'Genre': 'Classical',\n",
       "  'Time': '4.00',\n",
       "  'color': 'white'},\n",
       " {'_id': ObjectId('61b9ee16ec0cab2607af997f'),\n",
       "  'id': 33,\n",
       "  'Audio': 'Vibrations',\n",
       "  'Artist': 'Kesha',\n",
       "  'Audiofile': 'Ketsa_-_Vibration.mp3',\n",
       "  'Imageurl': '2eb8c76cc47a88c0bc27ffecf2097962--kesha-hair-nrj-music.jpg',\n",
       "  'Genre': 'HipHop',\n",
       "  'Time': '4.00',\n",
       "  'color': 'green'},\n",
       " {'_id': ObjectId('61b9ee3aec0cab2607af9981'),\n",
       "  'id': 34,\n",
       "  'Audio': 'Tik Tok',\n",
       "  'Artist': 'Kesha',\n",
       "  'Audiofile': 'TiK_ToK-Kesha-VlcMusic.CoM.mp3',\n",
       "  'Imageurl': '2eb8c76cc47a88c0bc27ffecf2097962--kesha-hair-nrj-music_JGgA6fz.jpg',\n",
       "  'Genre': 'HipHop',\n",
       "  'Time': '4.00',\n",
       "  'color': 'white'}]"
      ]
     },
     "execution_count": 21,
     "metadata": {},
     "output_type": "execute_result"
    }
   ],
   "source": [
    "list(db.Music_song.find())"
   ]
  },
  {
   "cell_type": "markdown",
   "id": "1fb91899-d305-4431-ae33-f7a72ee1cb7d",
   "metadata": {},
   "source": [
    "## 3.Creating Chart using Matplotlib\n"
   ]
  },
  {
   "cell_type": "markdown",
   "id": "9f2c5112-c651-4f5b-8769-0d9d736bdbbb",
   "metadata": {},
   "source": [
    "For the data required for creating Matplotlib char I'm fetching it from mongodb and inserted into table dataframe using panda."
   ]
  },
  {
   "cell_type": "code",
   "execution_count": 22,
   "id": "9601c07a-e9fc-4618-b6ce-cd9ee2104c00",
   "metadata": {},
   "outputs": [],
   "source": [
    "import pandas as pd\n",
    "data = pd.DataFrame(list(db.Music_song.find()))"
   ]
  },
  {
   "cell_type": "code",
   "execution_count": 23,
   "id": "d9c77928-ae19-44c5-a334-9e1f8167a0ff",
   "metadata": {},
   "outputs": [
    {
     "name": "stdout",
     "output_type": "stream",
     "text": [
      "Requirement already satisfied: plotly in c:\\users\\harman\\appdata\\local\\programs\\python\\python39\\lib\\site-packages (5.4.0)Note: you may need to restart the kernel to use updated packages.\n",
      "\n"
     ]
    },
    {
     "name": "stderr",
     "output_type": "stream",
     "text": [
      "WARNING: You are using pip version 21.2.4; however, version 21.3.1 is available.\n",
      "You should consider upgrading via the 'C:\\Users\\harman\\AppData\\Local\\Programs\\Python\\Python39\\python.exe -m pip install --upgrade pip' command.\n"
     ]
    },
    {
     "name": "stdout",
     "output_type": "stream",
     "text": [
      "Requirement already satisfied: six in c:\\users\\harman\\appdata\\roaming\\python\\python39\\site-packages (from plotly) (1.16.0)\n",
      "Requirement already satisfied: tenacity>=6.2.0 in c:\\users\\harman\\appdata\\local\\programs\\python\\python39\\lib\\site-packages (from plotly) (8.0.1)\n"
     ]
    }
   ],
   "source": [
    "pip install plotly"
   ]
  },
  {
   "cell_type": "code",
   "execution_count": 24,
   "id": "1e8d3b76-06da-417c-971a-ebd58a001a21",
   "metadata": {},
   "outputs": [],
   "source": [
    "import pandas as pd\n",
    "import matplotlib.pyplot as plt\n",
    "\n",
    "dataframe = data "
   ]
  },
  {
   "cell_type": "code",
   "execution_count": 25,
   "id": "a434db34-dc19-409c-bd1a-d457c6490a8e",
   "metadata": {},
   "outputs": [
    {
     "data": {
      "image/png": "[encoded data removed]",
      "text/plain": [
       "<Figure size 432x288 with 1 Axes>"
      ]
     },
     "metadata": {
      "needs_background": "light"
     },
     "output_type": "display_data"
    }
   ],
   "source": [
    "dataframe.groupby('Artist')['id'].nunique().plot(kind='bar')\n",
    "plt.show()"
   ]
  },
  {
   "cell_type": "code",
   "execution_count": 26,
   "id": "743aab55-fb18-44a6-94d5-ae6095eb71ce",
   "metadata": {},
   "outputs": [
    {
     "data": {
      "text/plain": [
       "<AxesSubplot:ylabel='id'>"
      ]
     },
     "execution_count": 26,
     "metadata": {},
     "output_type": "execute_result"
    },
    {
     "data": {
      "image/png": "[encoded data removed]",
      "text/plain": [
       "<Figure size 432x288 with 1 Axes>"
      ]
     },
     "metadata": {},
     "output_type": "display_data"
    }
   ],
   "source": [
    " dataframe.groupby('Genre')['id'].nunique().plot(kind='pie', shadow=True)\n"
   ]
  },
  {
   "cell_type": "code",
   "execution_count": null,
   "id": "3cf8ee14-ad01-43d8-b7bf-74408ef3c155",
   "metadata": {},
   "outputs": [],
   "source": []
  },
  {
   "cell_type": "code",
   "execution_count": null,
   "id": "769e80f7-9564-4614-8734-b58e0749dd35",
   "metadata": {},
   "outputs": [],
   "source": []
  },
  {
   "cell_type": "code",
   "execution_count": null,
   "id": "97fb753f-f111-4c96-82da-ce339b3307e0",
   "metadata": {},
   "outputs": [],
   "source": []
  }
 ],
 "metadata": {
  "kernelspec": {
   "display_name": "Python 3 (ipykernel)",
   "language": "python",
   "name": "python3"
  },
  "language_info": {
   "codemirror_mode": {
    "name": "ipython",
    "version": 3
   },
   "file_extension": ".py",
   "mimetype": "text/x-python",
   "name": "python",
   "nbconvert_exporter": "python",
   "pygments_lexer": "ipython3",
   "version": "3.9.8"
  }
 },
 "nbformat": 4,
 "nbformat_minor": 5
}
